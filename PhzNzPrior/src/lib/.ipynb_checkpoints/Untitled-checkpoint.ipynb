{
 "cells": [
  {
   "cell_type": "code",
   "execution_count": 1,
   "metadata": {},
   "outputs": [],
   "source": [
    "import numpy as np\n",
    "import matplotlib.pyplot as plt\n",
    "from astropy.table import Table"
   ]
  },
  {
   "cell_type": "code",
   "execution_count": 156,
   "metadata": {},
   "outputs": [],
   "source": [
    "pdf_bins = np.linspace(0,6,11)\n",
    "pdf_data = [[0,3,9,2,0,0,0,0,0,0,0],[0,0,2,9,1,0,0,0,0,0,0],[0,0,0,0,0,0,4,8,1,0,0],[0,0,0,0,0,0,0,0,1,2,7]]\n",
    "point_estimates = [1.1,2.1,4.1,5.8]\n",
    "reference_values =  [1.05,2.1,4.2,5.9]"
   ]
  },
  {
   "cell_type": "markdown",
   "metadata": {},
   "source": [
    "# Point estimate determination"
   ]
  },
  {
   "cell_type": "code",
   "execution_count": 157,
   "metadata": {},
   "outputs": [],
   "source": [
    "def getMaxSamplingPointEstimate(pdf_bins, pdf_data):\n",
    "    return [pdf_bins[np.argmax(pdf)] for pdf in pdf_data]"
   ]
  },
  {
   "cell_type": "code",
   "execution_count": 158,
   "metadata": {},
   "outputs": [],
   "source": [
    "def getMeanPointEstimate(pdf_bins, pdf_data):\n",
    "    return np.sum(np.multiply(pdf_bins,pdf_data), axis=1)/np.sum(pdf_data, axis=1)"
   ]
  },
  {
   "cell_type": "code",
   "execution_count": 161,
   "metadata": {},
   "outputs": [],
   "source": [
    "def getFitModeEstimate(pdf_bins, pdf_data):\n",
    "    max_sampl = np.array([np.argmax(pdf) for pdf in pdf_data])\n",
    "    max_sampl_original = np.array(max_sampl)\n",
    "    max_sampl[max_sampl > len(pdf_bins)-2] = len(pdf_bins)-2\n",
    "    max_sampl[max_sampl < 1] = 1\n",
    "    \n",
    "    values = np.zeros(len(pdf_data))\n",
    "    for index in range(len(pdf_data)):\n",
    "        x0 = pdf_bins[max_sampl[index]-1]\n",
    "        x1 = pdf_bins[max_sampl[index]]\n",
    "        x2 = pdf_bins[max_sampl[index]+1]\n",
    "        y0 = pdf_data[index][max_sampl[index]-1]\n",
    "        y1 = pdf_data[index][max_sampl[index]]\n",
    "        y2 = pdf_data[index][max_sampl[index]+1]\n",
    "        a = (x1-x2)*y0 + (x2-x0)*y1 + (x0-x1)*y2\n",
    "        b = (x2**2-x1**2)*y0 + (x0**2-x2**2)*y1 + (x1**2-x0**2)*y2\n",
    "        # takes the fited values only if it is a maximum\n",
    "        values[index] = -b/(2*a) if a>0 else  pdf_bins[max_sampl_original[index]]\n",
    "    return values\n",
    "    "
   ]
  },
  {
   "cell_type": "markdown",
   "metadata": {},
   "source": [
    "# Stacked PDF plots"
   ]
  },
  {
   "cell_type": "code",
   "execution_count": 165,
   "metadata": {},
   "outputs": [],
   "source": [
    "stack_bins = [0,1,2,3,4,6]\n"
   ]
  },
  {
   "cell_type": "code",
   "execution_count": 193,
   "metadata": {},
   "outputs": [],
   "source": [
    "def stackPdfFromBinInRef(pdf_data, reference_values, stack_bins):\n",
    "    stack_bins = np.array(stack_bins)\n",
    "    \n",
    "    ref_map = np.zeros([len(pdf_data[0]),len(stack_bins)-1])\n",
    "    for index, ref_value in enumerate(reference_values):\n",
    "        index_bellow = np.nonzero(stack_bins[stack_bins<ref_value]) \n",
    "        if len(index_bellow)>0 and len(index_bellow)<len(stack_bins):\n",
    "            print(index_bellow[-1][-1])\n",
    "            ref_map[:,index_bellow[-1][-1]] += np.reshape(np.nan_to_num(pdf_data[index]),(len(pdf_data[0]),1))\n",
    "    return ref_map"
   ]
  },
  {
   "cell_type": "code",
   "execution_count": 194,
   "metadata": {},
   "outputs": [
    {
     "name": "stdout",
     "output_type": "stream",
     "text": [
      "1\n"
     ]
    },
    {
     "ename": "ValueError",
     "evalue": "non-broadcastable output operand with shape (11,) doesn't match the broadcast shape (11,11)",
     "output_type": "error",
     "traceback": [
      "\u001b[0;31m---------------------------------------------------------------------------\u001b[0m",
      "\u001b[0;31mValueError\u001b[0m                                Traceback (most recent call last)",
      "\u001b[0;32m<ipython-input-194-2b0f64e0d31d>\u001b[0m in \u001b[0;36m<module>\u001b[0;34m()\u001b[0m\n\u001b[0;32m----> 1\u001b[0;31m \u001b[0mtable\u001b[0m \u001b[0;34m=\u001b[0m \u001b[0mstackPdfFromBinInRef\u001b[0m\u001b[0;34m(\u001b[0m\u001b[0mpdf_data\u001b[0m\u001b[0;34m,\u001b[0m \u001b[0mreference_values\u001b[0m\u001b[0;34m,\u001b[0m \u001b[0mstack_bins\u001b[0m\u001b[0;34m)\u001b[0m\u001b[0;34m\u001b[0m\u001b[0;34m\u001b[0m\u001b[0m\n\u001b[0m\u001b[1;32m      2\u001b[0m \u001b[0mprint\u001b[0m\u001b[0;34m(\u001b[0m\u001b[0mtable\u001b[0m\u001b[0;34m)\u001b[0m\u001b[0;34m\u001b[0m\u001b[0;34m\u001b[0m\u001b[0m\n",
      "\u001b[0;32m<ipython-input-193-4ef26e3cd85e>\u001b[0m in \u001b[0;36mstackPdfFromBinInRef\u001b[0;34m(pdf_data, reference_values, stack_bins)\u001b[0m\n\u001b[1;32m      7\u001b[0m         \u001b[0;32mif\u001b[0m \u001b[0mlen\u001b[0m\u001b[0;34m(\u001b[0m\u001b[0mindex_bellow\u001b[0m\u001b[0;34m)\u001b[0m\u001b[0;34m>\u001b[0m\u001b[0;36m0\u001b[0m \u001b[0;32mand\u001b[0m \u001b[0mlen\u001b[0m\u001b[0;34m(\u001b[0m\u001b[0mindex_bellow\u001b[0m\u001b[0;34m)\u001b[0m\u001b[0;34m<\u001b[0m\u001b[0mlen\u001b[0m\u001b[0;34m(\u001b[0m\u001b[0mstack_bins\u001b[0m\u001b[0;34m)\u001b[0m\u001b[0;34m:\u001b[0m\u001b[0;34m\u001b[0m\u001b[0;34m\u001b[0m\u001b[0m\n\u001b[1;32m      8\u001b[0m             \u001b[0mprint\u001b[0m\u001b[0;34m(\u001b[0m\u001b[0mindex_bellow\u001b[0m\u001b[0;34m[\u001b[0m\u001b[0;34m-\u001b[0m\u001b[0;36m1\u001b[0m\u001b[0;34m]\u001b[0m\u001b[0;34m[\u001b[0m\u001b[0;34m-\u001b[0m\u001b[0;36m1\u001b[0m\u001b[0;34m]\u001b[0m\u001b[0;34m)\u001b[0m\u001b[0;34m\u001b[0m\u001b[0;34m\u001b[0m\u001b[0m\n\u001b[0;32m----> 9\u001b[0;31m             \u001b[0mref_map\u001b[0m\u001b[0;34m[\u001b[0m\u001b[0;34m:\u001b[0m\u001b[0;34m,\u001b[0m\u001b[0mindex_bellow\u001b[0m\u001b[0;34m[\u001b[0m\u001b[0;34m-\u001b[0m\u001b[0;36m1\u001b[0m\u001b[0;34m]\u001b[0m\u001b[0;34m[\u001b[0m\u001b[0;34m-\u001b[0m\u001b[0;36m1\u001b[0m\u001b[0;34m]\u001b[0m\u001b[0;34m]\u001b[0m \u001b[0;34m+=\u001b[0m \u001b[0mnp\u001b[0m\u001b[0;34m.\u001b[0m\u001b[0mreshape\u001b[0m\u001b[0;34m(\u001b[0m\u001b[0mnp\u001b[0m\u001b[0;34m.\u001b[0m\u001b[0mnan_to_num\u001b[0m\u001b[0;34m(\u001b[0m\u001b[0mpdf_data\u001b[0m\u001b[0;34m[\u001b[0m\u001b[0mindex\u001b[0m\u001b[0;34m]\u001b[0m\u001b[0;34m)\u001b[0m\u001b[0;34m,\u001b[0m\u001b[0;34m(\u001b[0m\u001b[0mlen\u001b[0m\u001b[0;34m(\u001b[0m\u001b[0mpdf_data\u001b[0m\u001b[0;34m[\u001b[0m\u001b[0;36m0\u001b[0m\u001b[0;34m]\u001b[0m\u001b[0;34m)\u001b[0m\u001b[0;34m,\u001b[0m\u001b[0;36m1\u001b[0m\u001b[0;34m)\u001b[0m\u001b[0;34m)\u001b[0m\u001b[0;34m\u001b[0m\u001b[0;34m\u001b[0m\u001b[0m\n\u001b[0m\u001b[1;32m     10\u001b[0m     \u001b[0;32mreturn\u001b[0m \u001b[0mref_map\u001b[0m\u001b[0;34m\u001b[0m\u001b[0;34m\u001b[0m\u001b[0m\n",
      "\u001b[0;31mValueError\u001b[0m: non-broadcastable output operand with shape (11,) doesn't match the broadcast shape (11,11)"
     ]
    }
   ],
   "source": [
    "table = stackPdfFromBinInRef(pdf_data, reference_values, stack_bins)\n",
    "print(table)"
   ]
  },
  {
   "cell_type": "code",
   "execution_count": 185,
   "metadata": {},
   "outputs": [
    {
     "data": {
      "text/plain": [
       "<matplotlib.colorbar.Colorbar at 0x7f850e53b518>"
      ]
     },
     "execution_count": 185,
     "metadata": {},
     "output_type": "execute_result"
    },
    {
     "data": {
      "image/png": "[encoded data removed]",
      "text/plain": [
       "<Figure size 432x288 with 2 Axes>"
      ]
     },
     "metadata": {},
     "output_type": "display_data"
    }
   ],
   "source": [
    "cs = plt.imshow(table)\n",
    "plt.colorbar(cs)\n",
    "    "
   ]
  },
  {
   "cell_type": "code",
   "execution_count": null,
   "metadata": {},
   "outputs": [],
   "source": [
    "def buildRefZvsPdzMap(pdz_bins, out_z_bins, zref, dz, pdz, dPdz):\n",
    "        \"\"\"\n",
    "        Construct the PDZ map as function of the reference redshift selection.\n",
    "        \"\"\"\n",
    "        refz_map = np.zeros([len(pdz_bins),len(out_z_bins)-1])\n",
    "\n",
    "        for index,z in enumerate(zref):\n",
    "            if z <= out_z_bins[-1] :\n",
    "                refz_map[:,int(z/dz)] += np.nan_to_num(pdz[index])*dPdz\n",
    "        return refz_map"
   ]
  },
  {
   "cell_type": "code",
   "execution_count": null,
   "metadata": {},
   "outputs": [],
   "source": []
  },
  {
   "cell_type": "code",
   "execution_count": null,
   "metadata": {},
   "outputs": [],
   "source": []
  },
  {
   "cell_type": "code",
   "execution_count": 3,
   "metadata": {},
   "outputs": [],
   "source": [
    "class PdzMapPlot(object):\n",
    "\n",
    "    def _getShiftedPdzBins(self):\n",
    "        mPdzBins = -1.*self.pdz_bins\n",
    "        mPdzBins.sort()\n",
    "        \n",
    "        if 0 in self.pdz_bins:\n",
    "            self.shifted_pdz_bins = np.concatenate((mPdzBins[:-1], self.pdz_bins))\n",
    "        else :\n",
    "            self.shifted_pdz_bins = np.concatenate((mPdzBins, self.pdz_bins))\n",
    "\n",
    "    def _buildPhZvsPdzMap(self):\n",
    "        \"\"\"\n",
    "        Construct the PDZ-reference redshift map as function of the Photo-z selection.\n",
    "        \"\"\"\n",
    "        self.phz_map = np.zeros([len(self.shifted_pdz_bins),len(self.pdz_bins)-1])\n",
    "\n",
    "        for index,z in enumerate(self.phz):\n",
    "            if z < self.out_z_bins[-1]:\n",
    "                origPdz = np.concatenate((np.zeros(len(self.shifted_pdz_bins)-len(self.pdz_bins)),self.pdz_data[index]/np.sum(self.pdz_data[index])))\n",
    "                sPdz = np.interp(self.shifted_pdz_bins, self.shifted_pdz_bins-self.refz[index], origPdz)\n",
    "                self.phz_map[:,int(z/self.out_dz)] += np.nan_to_num(sPdz)\n",
    "\n",
    "    def __init__(self, pdz, phz, refz, z_max, bin_number):\n",
    "        self.out_z_bins = np.linspace(0, z_max, bin_number+1)\n",
    "        self.out_dz = self.out_z_bins[-1]/(len(self.out_z_bins)-1.)\n",
    "        self.out_bin_center = self.out_z_bins[0:-1]+self.out_dz/2\n",
    "\n",
    "        self.phz = phz\n",
    "        self.pdz_bins = pdz[1]  # param , bins, pdf_list\n",
    "        self.pdz_data = pdz[2]  # param , bins, pdf_list\n",
    "        self.refz = refz     \n",
    "        _getShiftedPdzBins()\n",
    "        _buildPhZvsPdzMap()\n",
    "        \n",
    "        self.initialised = True"
   ]
  },
  {
   "cell_type": "code",
   "execution_count": 10,
   "metadata": {},
   "outputs": [
    {
     "data": {
      "text/plain": [
       "array([0. , 0.6, 1.2, 1.8, 2.4, 3. , 3.6, 4.2, 4.8, 5.4, 6. ])"
      ]
     },
     "execution_count": 10,
     "metadata": {},
     "output_type": "execute_result"
    }
   ],
   "source": [
    "np.linspace(0,6,10+1)"
   ]
  },
  {
   "cell_type": "code",
   "execution_count": 6,
   "metadata": {},
   "outputs": [],
   "source": [
    "def getShiftedPdzBins(pdz_bins):\n",
    "        if 0 in pdz_bins:\n",
    "            mPdzBins = -1.*pdz_bins\n",
    "            mPdzBins.sort()\n",
    "            return  np.concatenate((mPdzBins[:-1],pdz_bins))\n",
    "        else :\n",
    "            mPdzBins = -1.*self.pdz_bin\n",
    "            mPdzBins.sort()\n",
    "            return np.concatenate((mPdzBins, pdz_bins))"
   ]
  },
  {
   "cell_type": "code",
   "execution_count": 67,
   "metadata": {},
   "outputs": [],
   "source": [
    "def buildPhZvsPdzMap(shifted_pdz_bins, pdz_bins, phz, out_z_bins, out_dz, pdz_data, refz ):\n",
    "        \"\"\"\n",
    "        Construct the PDZ-reference redshift map as function of the Photo-z selection.\n",
    "        \"\"\"\n",
    "        phz_map = np.zeros([len(shifted_pdz_bins),len(out_z_bins)-1])\n",
    "\n",
    "        for index,z in enumerate(phz):\n",
    "            if z < out_z_bins[-1]:\n",
    "                origPdz = np.concatenate((np.zeros(len(shifted_pdz_bins)-len(pdz_bins)),pdz_data[index]/np.sum(pdz_data[index])))\n",
    "                sPdz = np.interp(shifted_pdz_bins, shifted_pdz_bins-refz[index], origPdz)\n",
    "                phz_map[:,int(z/out_dz)] += np.nan_to_num(sPdz)\n",
    "        return phz_map\n",
    "  "
   ]
  },
  {
   "cell_type": "code",
   "execution_count": 68,
   "metadata": {},
   "outputs": [],
   "source": [
    "def buildRefZvsPdzMap(pdz_bins, out_z_bins, zref, dz, pdz, dPdz):\n",
    "        \"\"\"\n",
    "        Construct the PDZ map as function of the reference redshift selection.\n",
    "        \"\"\"\n",
    "        refz_map = np.zeros([len(pdz_bins),len(out_z_bins)-1])\n",
    "\n",
    "        for index,z in enumerate(zref):\n",
    "            if z <= out_z_bins[-1] :\n",
    "                refz_map[:,int(z/dz)] += np.nan_to_num(pdz[index])*dPdz\n",
    "        return refz_map"
   ]
  },
  {
   "cell_type": "code",
   "execution_count": 69,
   "metadata": {},
   "outputs": [],
   "source": [
    "pdz_bin = np.linspace(0,6,10+1)\n",
    "dPdz = np.gradient(pdz_bin)\n",
    "phz = [1.1,2.1,4.1]\n",
    "refz = [1.1,2.1,4.1]\n",
    "pdz_data = [[0,3,9,2,0,0,0,0,0,0,0],[0,0,2,9,1,0,0,0,0,0,0],[0,0,0,0,0,0,4,8,1,0,0]]\n",
    "out_z_bins=[0,1,2,3,4,6]\n",
    "out_dz = out_z_bins[-1]/(len(out_z_bins)-1.)\n",
    "shifted_pdz_bins = getShiftedPdzBins(pdz_bin)"
   ]
  },
  {
   "cell_type": "code",
   "execution_count": 70,
   "metadata": {},
   "outputs": [],
   "source": [
    "phz_map = buildPhZvsPdzMap(shifted_pdz_bins, pdz_bin, phz, out_z_bins, out_dz, pdz_data, refz )"
   ]
  },
  {
   "cell_type": "code",
   "execution_count": 71,
   "metadata": {},
   "outputs": [
    {
     "data": {
      "text/plain": [
       "<matplotlib.colorbar.Colorbar at 0x7f850e7c2f60>"
      ]
     },
     "execution_count": 71,
     "metadata": {},
     "output_type": "execute_result"
    },
    {
     "data": {
      "image/png": "[encoded data removed]",
      "text/plain": [
       "<Figure size 432x288 with 2 Axes>"
      ]
     },
     "metadata": {},
     "output_type": "display_data"
    }
   ],
   "source": [
    "cs = plt.imshow(phz_map)\n",
    "plt.colorbar(cs)"
   ]
  },
  {
   "cell_type": "code",
   "execution_count": 72,
   "metadata": {},
   "outputs": [],
   "source": [
    "erf_map = buildRefZvsPdzMap(pdz_bin, out_z_bins, refz, out_dz, pdz_data, dPdz)"
   ]
  },
  {
   "cell_type": "code",
   "execution_count": 73,
   "metadata": {},
   "outputs": [
    {
     "data": {
      "text/plain": [
       "<matplotlib.colorbar.Colorbar at 0x7f850e6dd668>"
      ]
     },
     "execution_count": 73,
     "metadata": {},
     "output_type": "execute_result"
    },
    {
     "data": {
      "image/png": "[encoded data removed]",
      "text/plain": [
       "<Figure size 432x288 with 2 Axes>"
      ]
     },
     "metadata": {},
     "output_type": "display_data"
    }
   ],
   "source": [
    "cs = plt.imshow(erf_map)\n",
    "plt.colorbar(cs)"
   ]
  },
  {
   "cell_type": "code",
   "execution_count": null,
   "metadata": {},
   "outputs": [],
   "source": [
    " def plotPdzMap(self, ax, type='phz',**kwargs):\n",
    "        if not self.initialised:\n",
    "            raise ValueError('plotPdzMap called for uninitialised PhzResults')\n",
    "\n",
    "        if type == 'phz':\n",
    "            cs = ax.imshow(self.phzMap, origin='lower',extent=(0,self.zBinsLim[-1],\n",
    "                        self.shiftedPdzBins[0]-self.dStackedPdz[0],self.shiftedPdzBins[-1]+self.dStackedPdz[-1]),\n",
    "                        norm=LogNorm(vmin=0.01,vmax=np.max(self.phzMap)),aspect='auto',**kwargs)\n",
    "            plt.colorbar(cs)\n",
    "        elif type == 'specz':\n",
    "            cs = ax.imshow(self.refzMap,origin='lower',extent=(0,self.zBinsLim[-1],\n",
    "                        0-self.dPdz[0],self.pdzBins[-1]+self.dPdz[-1]),\n",
    "                        norm=LogNorm(vmin=0.01,vmax=np.max(self.refzMap)),aspect='auto',**kwargs)\n",
    "            plt.colorbar(cs)\n",
    "        else :\n",
    "            raise ValueError('type unrecognized in plotSum, can be \"phz\" (default) or \"specz\"')\n",
    "\n",
    "        int68 = self.getIntervals(0.68,type)\n",
    "        int90 = self.getIntervals(0.90,type)\n",
    "        ax.plot(self.zBinsCenter,int68[:,0],c='r',linewidth=1,drawstyle='steps-mid',alpha=0.8,label='68% Lim')\n",
    "        ax.plot(self.zBinsCenter,int68[:,1],c='r',linewidth=1,drawstyle='steps-mid',alpha=0.8)\n",
    "\n",
    "        ax.plot(self.zBinsCenter,int90[:,0],c='darkorange',linewidth=1,drawstyle='steps-mid',alpha=0.8,label='90% Lim')\n",
    "        ax.plot(self.zBinsCenter,int90[:,1],c='darkorange',linewidth=1,drawstyle='steps-mid',alpha=0.8)"
   ]
  }
 ],
 "metadata": {
  "kernelspec": {
   "display_name": "Python 3",
   "language": "python",
   "name": "python3"
  },
  "language_info": {
   "codemirror_mode": {
    "name": "ipython",
    "version": 3
   },
   "file_extension": ".py",
   "mimetype": "text/x-python",
   "name": "python",
   "nbconvert_exporter": "python",
   "pygments_lexer": "ipython3",
   "version": "3.6.8"
  }
 },
 "nbformat": 4,
 "nbformat_minor": 2
}
